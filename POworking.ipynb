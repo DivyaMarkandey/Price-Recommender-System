{
  "nbformat": 4,
  "nbformat_minor": 0,
  "metadata": {
    "colab": {
      "provenance": [],
      "toc_visible": true,
      "authorship_tag": "ABX9TyPgBieM96OfAWSz5ivE1JGV"
    },
    "kernelspec": {
      "name": "python3",
      "display_name": "Python 3"
    },
    "language_info": {
      "name": "python"
    }
  },
  "cells": [
    {
      "cell_type": "code",
      "execution_count": 1,
      "metadata": {
        "id": "rmU1etzcuhqc"
      },
      "outputs": [],
      "source": [
        "import pandas as pd\n",
        "import torch\n",
        "import torch.nn as nn\n",
        "from sklearn.model_selection import train_test_split\n",
        "from sklearn.preprocessing import StandardScaler, OneHotEncoder\n",
        "from sklearn.compose import ColumnTransformer\n",
        "import warnings\n",
        "warnings.filterwarnings('ignore')\n",
        "from torch.utils.data import TensorDataset, DataLoader\n",
        "import torch.optim as optim\n",
        "from pathlib import Path\n",
        "from sklearn.neural_network import MLPRegressor\n",
        "import numpy as np\n",
        "def preprocess_data(filepath, items_id, Date):\n",
        "    data = pd.read_csv(filepath)\n",
        "    data['sales'].fillna(data['sales'].mean(), inplace=True)\n",
        "    data['date'] = pd.to_datetime(data['date'], format='%d-%m-%Y')\n",
        "\n",
        "    # Filtering data based on itemID and Date if needed\n",
        "    data = data[(data['sku_id'] == items_id) & (data['date'] == pd.to_datetime(Date, format='%d-%m-%Y'))]\n",
        "\n",
        "    categorical_features = ['gender', 'category', 'brand', 'collection', 'price_tier', 'style']\n",
        "    encoder = OneHotEncoder()\n",
        "    encoded_categorical = encoder.fit_transform(data[categorical_features])\n",
        "    encoded_features = pd.DataFrame(encoded_categorical.toarray(), columns=encoder.get_feature_names_out(categorical_features))\n",
        "    data = pd.concat([data.drop(categorical_features, axis=1), encoded_features], axis=1)\n",
        "    return data\n",
        "\n",
        "def RecommendPrice(items_id, data_path, Time, Date):\n",
        "    data = preprocess_data(data_path, items_id, Date)\n",
        "    if data.empty:\n",
        "        return \"No data available for this item on the given date.\"\n",
        "\n",
        "    # Select the features and check for NaN values\n",
        "    X = data[['cost', 'price']]\n",
        "    if X.isnull().any().any():\n",
        "        X.fillna(method='ffill', inplace=True)\n",
        "\n",
        "    y = data['sales']\n",
        "    if y.isnull().any():\n",
        "        y.fillna(y.mean(), inplace=True)\n",
        "\n",
        "    scaler = StandardScaler()\n",
        "    X_scaled = scaler.fit_transform(X)\n",
        "\n",
        "    model = MLPRegressor(hidden_layer_sizes=(64, 32), activation='relu', solver='adam', max_iter=2000)\n",
        "    model.fit(X_scaled, y)\n",
        "\n",
        "    prices = np.linspace(data['price'].min(), data['price'].max(), num=100)\n",
        "    profits = []\n",
        "\n",
        "    for price in prices:\n",
        "        input_df = pd.DataFrame({\n",
        "            'cost': X['cost'],\n",
        "            'price': np.full(len(X), price)\n",
        "        })\n",
        "        input_scaled = scaler.transform(input_df)\n",
        "        predicted_sales = model.predict(input_scaled)\n",
        "        profit = (price * predicted_sales - X['cost']).sum()\n",
        "        profits.append(profit)\n",
        "\n",
        "    optimal_price = prices[np.argmax(profits)]\n",
        "    return optimal_price\n"
      ]
    },
    {
      "cell_type": "code",
      "source": [
        "print('=====================')\n",
        "data_path = 'data.csv'\n",
        "test_samples_item_id = [{'items_id':[0], 'date': '25-06-2020', 'time':'8:00:00'},\n",
        "                   {'items_id':[50], 'date': '24-05-2020', 'time':'8:00:00'},\n",
        "                   {'items_id':[100], 'date': '25-06-2020', 'time':'8:00:00'},\n",
        "                   {'items_id':[125], 'date': '25-06-2020', 'time':'8:00:00'},\n",
        "                   {'items_id':[175], 'date': '25-06-2020', 'time':'8:00:00'},\n",
        "                   {'items_id':[200], 'date': '25-06-2020', 'time':'8:00:00'},\n",
        "                   {'items_id':[250], 'date': '25-06-2020', 'time':'8:00:00'},\n",
        "                   {'items_id':[300], 'date': '25-06-2020', 'time':'8:00:00'},\n",
        "                   {'items_id':[350], 'date': '25-06-2020', 'time':'8:00:00'},\n",
        "                   {'items_id':[399], 'date': '25-06-2020', 'time':'8:00:00'}]\n",
        "\n",
        "def test_single_sample(sample, data_path):\n",
        "    items_id = sample['items_id']\n",
        "    date = sample['date']\n",
        "    time = sample['time']\n",
        "\n",
        "    results = []\n",
        "    for i in range(len(items_id)):\n",
        "        cur_items_id = items_id[i]\n",
        "        cur_res = RecommendPrice(cur_items_id, data_path, time, date)\n",
        "        results.append(cur_res)\n",
        "    return results\n",
        "\n",
        "def compute_performance(test_samples, data_path):\n",
        "    raw_res_list = []\n",
        "    for cur_sample in test_samples:\n",
        "        cur_res = test_single_sample(cur_sample, data_path)\n",
        "        raw_res_list.append(cur_res)\n",
        "\n",
        "    return raw_res_list\n",
        "\n",
        "def test():\n",
        "    results = compute_performance(test_samples_item_id, data_path)\n",
        "    print('============================')\n",
        "    print('results= ', results)\n",
        "\n",
        "\n",
        "test()"
      ],
      "metadata": {
        "colab": {
          "base_uri": "https://localhost:8080/"
        },
        "id": "kF0dsEZWD0H0",
        "outputId": "76a9827a-f96b-434a-811a-17540b05abd4"
      },
      "execution_count": 2,
      "outputs": [
        {
          "output_type": "stream",
          "name": "stdout",
          "text": [
            "=====================\n",
            "============================\n",
            "results=  [[2.6], [1.2], [2.6], [2.6], [2.6], [2.6], [2.6], [2.6], [2.6], [2.6]]\n"
          ]
        }
      ]
    }
  ]
}